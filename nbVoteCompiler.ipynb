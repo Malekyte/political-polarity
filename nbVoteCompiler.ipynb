{
 "cells": [
  {
   "cell_type": "code",
   "execution_count": 36,
   "metadata": {},
   "outputs": [],
   "source": [
    "from bs4 import BeautifulSoup\n",
    "import requests\n",
    "import pandas as pd"
   ]
  },
  {
   "cell_type": "code",
   "execution_count": 3,
   "metadata": {},
   "outputs": [],
   "source": [
    "API_KEY = \"eJpkmiu4zVd6PiCvN5zA6V8uxoBIg0o9wda4I75F\"\n",
    "ACCT_ID = \"1ed051f0-753f-43b2-ba18-12982a7cd12c\"\n",
    "url = \"https://www.congress.gov/roll-call-votes\""
   ]
  },
  {
   "cell_type": "code",
   "execution_count": 34,
   "metadata": {},
   "outputs": [],
   "source": [
    "endpoint = f\"https://api.congress.gov/v3/bill\"\n",
    "endpoint = f\"https://api.congress.gov/v3/bound-congressional-record/2003/12/08?api_key={API_KEY}\"\n",
    "params = {\n",
    "    'api_key': API_KEY\n",
    "}\n",
    "response = requests.get(endpoint)"
   ]
  },
  {
   "cell_type": "code",
   "execution_count": 35,
   "metadata": {},
   "outputs": [
    {
     "data": {
      "text/plain": [
       "{'boundCongressionalRecord': [],\n",
       " 'pagination': {'count': 0},\n",
       " 'request': {'contentType': 'application/json',\n",
       "  'day': '08',\n",
       "  'format': 'json',\n",
       "  'month': '12',\n",
       "  'year': '2003'}}"
      ]
     },
     "execution_count": 35,
     "metadata": {},
     "output_type": "execute_result"
    }
   ],
   "source": [
    "response.json()"
   ]
  },
  {
   "cell_type": "code",
   "execution_count": 40,
   "metadata": {},
   "outputs": [],
   "source": [
    "df_raw = pd.read_pickle('data/congressVotes_clean.pkl')"
   ]
  },
  {
   "cell_type": "code",
   "execution_count": 45,
   "metadata": {},
   "outputs": [],
   "source": [
    "df = df_raw[df_raw.bill_number.notna()]"
   ]
  },
  {
   "cell_type": "code",
   "execution_count": 46,
   "metadata": {},
   "outputs": [
    {
     "data": {
      "text/html": [
       "<div>\n",
       "<style scoped>\n",
       "    .dataframe tbody tr th:only-of-type {\n",
       "        vertical-align: middle;\n",
       "    }\n",
       "\n",
       "    .dataframe tbody tr th {\n",
       "        vertical-align: top;\n",
       "    }\n",
       "\n",
       "    .dataframe thead th {\n",
       "        text-align: right;\n",
       "    }\n",
       "</style>\n",
       "<table border=\"1\" class=\"dataframe\">\n",
       "  <thead>\n",
       "    <tr style=\"text-align: right;\">\n",
       "      <th></th>\n",
       "      <th>congress</th>\n",
       "      <th>chamber</th>\n",
       "      <th>rollnumber</th>\n",
       "      <th>date</th>\n",
       "      <th>yea_count</th>\n",
       "      <th>nay_count</th>\n",
       "      <th>nominate_mid_1</th>\n",
       "      <th>nominate_mid_2</th>\n",
       "      <th>nominate_spread_1</th>\n",
       "      <th>nominate_spread_2</th>\n",
       "      <th>nominate_log_likelihood</th>\n",
       "      <th>bill_number</th>\n",
       "      <th>vote_result</th>\n",
       "      <th>president_party</th>\n",
       "    </tr>\n",
       "  </thead>\n",
       "  <tbody>\n",
       "    <tr>\n",
       "      <th>1</th>\n",
       "      <td>101</td>\n",
       "      <td>House</td>\n",
       "      <td>370</td>\n",
       "      <td>1990-01-24</td>\n",
       "      <td>137</td>\n",
       "      <td>276</td>\n",
       "      <td>0.104</td>\n",
       "      <td>0.950</td>\n",
       "      <td>-0.291</td>\n",
       "      <td>-0.081</td>\n",
       "      <td>-80.505</td>\n",
       "      <td>HR2712</td>\n",
       "      <td>Failed</td>\n",
       "      <td>Republican</td>\n",
       "    </tr>\n",
       "    <tr>\n",
       "      <th>2</th>\n",
       "      <td>101</td>\n",
       "      <td>House</td>\n",
       "      <td>371</td>\n",
       "      <td>1990-01-24</td>\n",
       "      <td>390</td>\n",
       "      <td>25</td>\n",
       "      <td>0.210</td>\n",
       "      <td>0.978</td>\n",
       "      <td>0.147</td>\n",
       "      <td>0.365</td>\n",
       "      <td>-82.013</td>\n",
       "      <td>HR2712</td>\n",
       "      <td>Passed</td>\n",
       "      <td>Republican</td>\n",
       "    </tr>\n",
       "    <tr>\n",
       "      <th>4</th>\n",
       "      <td>101</td>\n",
       "      <td>House</td>\n",
       "      <td>373</td>\n",
       "      <td>1990-01-31</td>\n",
       "      <td>254</td>\n",
       "      <td>166</td>\n",
       "      <td>0.060</td>\n",
       "      <td>-0.192</td>\n",
       "      <td>0.284</td>\n",
       "      <td>-0.398</td>\n",
       "      <td>-40.823</td>\n",
       "      <td>HRES309</td>\n",
       "      <td>Passed</td>\n",
       "      <td>Republican</td>\n",
       "    </tr>\n",
       "    <tr>\n",
       "      <th>5</th>\n",
       "      <td>101</td>\n",
       "      <td>House</td>\n",
       "      <td>374</td>\n",
       "      <td>1990-02-06</td>\n",
       "      <td>396</td>\n",
       "      <td>21</td>\n",
       "      <td>0.682</td>\n",
       "      <td>0.032</td>\n",
       "      <td>0.227</td>\n",
       "      <td>-0.231</td>\n",
       "      <td>-58.756</td>\n",
       "      <td>HR2061</td>\n",
       "      <td>Passed</td>\n",
       "      <td>Republican</td>\n",
       "    </tr>\n",
       "    <tr>\n",
       "      <th>6</th>\n",
       "      <td>101</td>\n",
       "      <td>House</td>\n",
       "      <td>375</td>\n",
       "      <td>1990-02-06</td>\n",
       "      <td>413</td>\n",
       "      <td>0</td>\n",
       "      <td>0.000</td>\n",
       "      <td>0.000</td>\n",
       "      <td>0.000</td>\n",
       "      <td>0.000</td>\n",
       "      <td>0.000</td>\n",
       "      <td>HCONRES254</td>\n",
       "      <td>Passed</td>\n",
       "      <td>Republican</td>\n",
       "    </tr>\n",
       "  </tbody>\n",
       "</table>\n",
       "</div>"
      ],
      "text/plain": [
       "   congress chamber  rollnumber       date  yea_count  nay_count  \\\n",
       "1       101   House         370 1990-01-24        137        276   \n",
       "2       101   House         371 1990-01-24        390         25   \n",
       "4       101   House         373 1990-01-31        254        166   \n",
       "5       101   House         374 1990-02-06        396         21   \n",
       "6       101   House         375 1990-02-06        413          0   \n",
       "\n",
       "   nominate_mid_1  nominate_mid_2  nominate_spread_1  nominate_spread_2  \\\n",
       "1           0.104           0.950             -0.291             -0.081   \n",
       "2           0.210           0.978              0.147              0.365   \n",
       "4           0.060          -0.192              0.284             -0.398   \n",
       "5           0.682           0.032              0.227             -0.231   \n",
       "6           0.000           0.000              0.000              0.000   \n",
       "\n",
       "   nominate_log_likelihood bill_number vote_result president_party  \n",
       "1                  -80.505      HR2712      Failed      Republican  \n",
       "2                  -82.013      HR2712      Passed      Republican  \n",
       "4                  -40.823     HRES309      Passed      Republican  \n",
       "5                  -58.756      HR2061      Passed      Republican  \n",
       "6                    0.000  HCONRES254      Passed      Republican  "
      ]
     },
     "execution_count": 46,
     "metadata": {},
     "output_type": "execute_result"
    }
   ],
   "source": [
    "df.head()"
   ]
  }
 ],
 "metadata": {
  "kernelspec": {
   "display_name": "Python 3",
   "language": "python",
   "name": "python3"
  },
  "language_info": {
   "codemirror_mode": {
    "name": "ipython",
    "version": 3
   },
   "file_extension": ".py",
   "mimetype": "text/x-python",
   "name": "python",
   "nbconvert_exporter": "python",
   "pygments_lexer": "ipython3",
   "version": "3.11.2"
  }
 },
 "nbformat": 4,
 "nbformat_minor": 2
}
